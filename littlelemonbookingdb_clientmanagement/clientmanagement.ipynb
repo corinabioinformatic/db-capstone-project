{
 "cells": [
  {
   "cell_type": "markdown",
   "metadata": {},
   "source": [
    "### Task1\n",
    "\n",
    "### Task 2\n",
    "\n",
    "### Task 3:\n",
    " \n",
    "Your third and final task is to establish a connection between Python and your database using the following steps:\n",
    "\n"
   ]
  },
  {
   "cell_type": "code",
   "execution_count": 1,
   "metadata": {},
   "outputs": [
    {
     "name": "stdout",
     "output_type": "stream",
     "text": [
      "Collecting mysql-connector-python\n",
      "  Downloading mysql_connector_python-8.2.0-cp311-cp311-win_amd64.whl.metadata (2.1 kB)\n",
      "Collecting protobuf<=4.21.12,>=4.21.1 (from mysql-connector-python)\n",
      "  Downloading protobuf-4.21.12-cp310-abi3-win_amd64.whl (527 kB)\n",
      "     ---------------------------------------- 0.0/527.0 kB ? eta -:--:--\n",
      "     ------------------------------------- 527.0/527.0 kB 16.7 MB/s eta 0:00:00\n",
      "Downloading mysql_connector_python-8.2.0-cp311-cp311-win_amd64.whl (14.2 MB)\n",
      "   ---------------------------------------- 0.0/14.2 MB ? eta -:--:--\n",
      "   ----- ---------------------------------- 2.0/14.2 MB 42.3 MB/s eta 0:00:01\n",
      "   ----------- ---------------------------- 4.2/14.2 MB 44.8 MB/s eta 0:00:01\n",
      "   ------------------ --------------------- 6.4/14.2 MB 51.3 MB/s eta 0:00:01\n",
      "   ------------------- -------------------- 6.8/14.2 MB 36.4 MB/s eta 0:00:01\n",
      "   ------------------------- -------------- 9.1/14.2 MB 38.7 MB/s eta 0:00:01\n",
      "   -------------------------------- ------- 11.6/14.2 MB 40.9 MB/s eta 0:00:01\n",
      "   -------------------------------------- - 13.8/14.2 MB 40.9 MB/s eta 0:00:01\n",
      "   ---------------------------------------- 14.2/14.2 MB 36.4 MB/s eta 0:00:00\n",
      "Installing collected packages: protobuf, mysql-connector-python\n",
      "Successfully installed mysql-connector-python-8.2.0 protobuf-4.21.12\n"
     ]
    },
    {
     "name": "stderr",
     "output_type": "stream",
     "text": [
      "\n",
      "[notice] A new release of pip is available: 23.3 -> 23.3.1\n",
      "[notice] To update, run: python.exe -m pip install --upgrade pip\n"
     ]
    }
   ],
   "source": [
    "!pip install mysql-connector-python\n",
    "import mysql.connector as connector"
   ]
  },
  {
   "cell_type": "markdown",
   "metadata": {},
   "source": [
    "Verify that a connection can be made with your database by calling the connection method from the connector class: \n",
    "\n"
   ]
  },
  {
   "cell_type": "code",
   "execution_count": 16,
   "metadata": {},
   "outputs": [],
   "source": [
    "cnx = connector.connect(user = \"testeruser1\", password = \"letsTest#\", db=\"littlelemondb\")\n",
    "\n"
   ]
  },
  {
   "cell_type": "code",
   "execution_count": 18,
   "metadata": {},
   "outputs": [],
   "source": [
    "cursor = cnx.cursor()\n"
   ]
  },
  {
   "cell_type": "code",
   "execution_count": 5,
   "metadata": {},
   "outputs": [],
   "source": [
    "#query = \"USE littlelemondb; \" #no need, since we passed it in the cnx \n",
    "\n"
   ]
  },
  {
   "cell_type": "code",
   "execution_count": 19,
   "metadata": {},
   "outputs": [],
   "source": [
    "cursor.execute(query)"
   ]
  },
  {
   "cell_type": "code",
   "execution_count": 20,
   "metadata": {},
   "outputs": [],
   "source": [
    "query_allbookings = \"SELECT * FROM Bookings;\""
   ]
  },
  {
   "cell_type": "code",
   "execution_count": 21,
   "metadata": {},
   "outputs": [
    {
     "name": "stdout",
     "output_type": "stream",
     "text": [
      "(1, 1, 5, datetime.datetime(2022, 10, 10, 0, 0))\n",
      "(2, 3, 3, datetime.datetime(2022, 11, 12, 0, 0))\n",
      "(3, 2, 2, datetime.datetime(2022, 10, 11, 0, 0))\n",
      "(4, 1, 2, datetime.datetime(2022, 10, 13, 0, 0))\n",
      "(5, 4, 4, datetime.datetime(2020, 1, 17, 0, 0))\n",
      "(6, 5, 5, datetime.datetime(2020, 1, 16, 0, 0))\n",
      "(7, 4, 6, datetime.datetime(2020, 1, 17, 0, 0))\n",
      "(10, 5, 4, datetime.datetime(2022, 12, 30, 0, 0))\n"
     ]
    }
   ],
   "source": [
    "cursor.execute(query_allbookings)\n",
    "\n",
    "for row in cursor:\n",
    "  print(row)"
   ]
  },
  {
   "cell_type": "code",
   "execution_count": 10,
   "metadata": {},
   "outputs": [],
   "source": [
    "cursor.close()\n",
    "cnx.close()"
   ]
  },
  {
   "cell_type": "code",
   "execution_count": 22,
   "metadata": {},
   "outputs": [
    {
     "name": "stdout",
     "output_type": "stream",
     "text": [
      "('bookings',)\n",
      "('customers',)\n",
      "('menu',)\n",
      "('menuitems',)\n",
      "('orderdeliverystatus',)\n",
      "('orders',)\n",
      "('ordersview',)\n",
      "('staff',)\n"
     ]
    }
   ],
   "source": [
    "cnx = connector.connect(user = \"testeruser1\", password = \"letsTest#\", db = \"littlelemondb\" ) \n",
    "cursor = cnx.cursor(buffered=True)\n",
    "\n",
    "query_alltableslittlelemon = \"SHOW TABLES FROM littlelemondb;\"\n",
    "#cursor.execute(\"USE littlelemondb;\")\n",
    "\n",
    "cursor.execute(query_alltableslittlelemon)\n",
    "\n",
    "\n",
    "for row in cursor:\n",
    "  print(row)\n"
   ]
  },
  {
   "cell_type": "markdown",
   "metadata": {},
   "source": [
    "### task 3: \n",
    "For the third and final task, Little Lemon need you to return specific details from your database.\n",
    " They require the full name and contact details for every customer that has placed an order greater than $60 for a promotional campaign. \n",
    "\n",
    "\n",
    "**Step One**: Identify which tables are required. To complete the query, you first need to identify which table has the required data. \n",
    "\n",
    "The bill paid can be found in Orders as TotalCost and the customer contact information can be found in the Customers table. \n",
    "\n",
    "When selecting attributes from a specific table, specify the table name, followed by a dot and the target attribute as below (Hint: select the column attributes that you will need). \n",
    "\n",
    "\n",
    "**Step Two**: Next, specify a table (Hint: The FROM keyword allows you to identify a table.)\n",
    "\n",
    "To join two tables, specify the type of JOIN and the attribute to join the table on. The tables must be joined on an attribute that is common to both tables (such as a common column).\n",
    "\n",
    "\n",
    "**Step Three**: Finally, include a clause to filter the data on. (Hint: the WHERE clause can be used to add conditional parameters.) \n",
    "\n",
    "When you have completed these steps, wrap this query as a string and pass it to the .execute() method of the cursor class. When executed, your SELECT query must extract the full name, contact details and bill amount for every customer who spent more than $60.\n"
   ]
  },
  {
   "cell_type": "code",
   "execution_count": 23,
   "metadata": {},
   "outputs": [
    {
     "name": "stdout",
     "output_type": "stream",
     "text": [
      "('Ana One', 1, 'ana@dot.com')\n",
      "('Bart Two', 2, 'bart@dot.com')\n",
      "('Charlie Three', 3, 'charlie@dot.com')\n",
      "('Dani Four', 4, 'dani@dot.com')\n",
      "('Elon Five', 5, 'elon@dot.com')\n"
     ]
    }
   ],
   "source": [
    "query_nameandcontactcustomers_ordersover60 = \"\"\"SELECT CONCAT(FirstName,' ', LastName) AS FullName,\n",
    "PhoneNumber, \n",
    "Email\n",
    "FROM Customers\n",
    "WHERE CustomerID IN (\n",
    "\tSELECT CustomerID\n",
    "    FROM Orders\n",
    "    WHERE TotalCost >60\n",
    "    \n",
    ");\"\"\"\n",
    "\n",
    "cursor.execute(query_nameandcontactcustomers_ordersover60)\n",
    "\n",
    "\n",
    "for row in cursor:\n",
    "  print(row)\n",
    "\n",
    "  "
   ]
  },
  {
   "cell_type": "code",
   "execution_count": 24,
   "metadata": {},
   "outputs": [],
   "source": [
    "cursor.close()\n",
    "cnx.close()"
   ]
  }
 ],
 "metadata": {
  "kernelspec": {
   "display_name": "Python 3",
   "language": "python",
   "name": "python3"
  },
  "language_info": {
   "codemirror_mode": {
    "name": "ipython",
    "version": 3
   },
   "file_extension": ".py",
   "mimetype": "text/x-python",
   "name": "python",
   "nbconvert_exporter": "python",
   "pygments_lexer": "ipython3",
   "version": "3.11.3"
  }
 },
 "nbformat": 4,
 "nbformat_minor": 2
}
